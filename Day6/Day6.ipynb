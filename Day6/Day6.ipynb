{
  "nbformat": 4,
  "nbformat_minor": 0,
  "metadata": {
    "colab": {
      "name": "Day6.ipynb",
      "provenance": []
    },
    "kernelspec": {
      "name": "python3",
      "display_name": "Python 3"
    }
  },
  "cells": [
    {
      "cell_type": "markdown",
      "metadata": {
        "id": "rn-Ome3KPOCG",
        "colab_type": "text"
      },
      "source": [
        "Question 1 (banking)"
      ]
    },
    {
      "cell_type": "code",
      "metadata": {
        "id": "MpKIBrRnO7Tq",
        "colab_type": "code",
        "colab": {
          "base_uri": "https://localhost:8080/",
          "height": 170
        },
        "outputId": "cf1d0f8d-9225-4b35-9b30-7c47596e2c23"
      },
      "source": [
        "class Bank_Account: \n",
        "    def __init__(self): \n",
        "        self.balance=0\n",
        "        print(\"Hello!!! Welcome to the Deposit & Withdrawal Machine\") \n",
        "  \n",
        "    def deposit(self): \n",
        "        amount=float(input(\"Enter amount to be Deposited: \")) \n",
        "        self.balance += amount \n",
        "        print(\"\\n Amount Deposited:\",amount) \n",
        "  \n",
        "    def withdraw(self): \n",
        "        amount = float(input(\"Enter amount to be Withdrawn: \")) \n",
        "        if self.balance>=amount: \n",
        "            self.balance-=amount \n",
        "            print(\"\\n You Withdrew:\", amount) \n",
        "        else: \n",
        "            print(\"\\n Insufficient balance  \") \n",
        "  \n",
        "    def display(self): \n",
        "        print(\"\\n Net Available Balance=\",self.balance) \n",
        "  \n",
        "# Driver code \n",
        "   \n",
        "# creating an object of class \n",
        "s = Bank_Account() \n",
        "   \n",
        "# Calling functions with that class object \n",
        "\n",
        "s.deposit() \n",
        "s.withdraw() \n",
        "s.display() "
      ],
      "execution_count": 1,
      "outputs": [
        {
          "output_type": "stream",
          "text": [
            "Hello!!! Welcome to the Deposit & Withdrawal Machine\n",
            "Enter amount to be Deposited: 5000\n",
            "\n",
            " Amount Deposited: 5000.0\n",
            "Enter amount to be Withdrawn: 2000\n",
            "\n",
            " You Withdrew: 2000.0\n",
            "\n",
            " Net Available Balance= 3000.0\n"
          ],
          "name": "stdout"
        }
      ]
    },
    {
      "cell_type": "markdown",
      "metadata": {
        "id": "u9qNRho1PVQy",
        "colab_type": "text"
      },
      "source": [
        "Question 2 (cone class)"
      ]
    },
    {
      "cell_type": "code",
      "metadata": {
        "id": "8YQd6u32PTc9",
        "colab_type": "code",
        "colab": {
          "base_uri": "https://localhost:8080/",
          "height": 51
        },
        "outputId": "c99d6254-a5e7-4055-ad76-3e8459152384"
      },
      "source": [
        "import math \n",
        "pi = math.pi \n",
        "\n",
        "def volume(r, h): \n",
        "    return (1 / 3) * pi * r * r * h \n",
        "  \n",
        "def surfacearea(r, s): \n",
        "    return pi * r * s + pi * r * r \n",
        "  \n",
        "radius = float(8) \n",
        "height = float(15) \n",
        "slat_height = float(13) \n",
        "print( \"Volume Of Cone : \", volume(radius, height) ) \n",
        "print( \"Surface Area Of Cone : \", surfacearea(radius, slat_height) ) "
      ],
      "execution_count": 3,
      "outputs": [
        {
          "output_type": "stream",
          "text": [
            "Volume Of Cone :  1005.3096491487337\n",
            "Surface Area Of Cone :  527.7875658030853\n"
          ],
          "name": "stdout"
        }
      ]
    }
  ]
}