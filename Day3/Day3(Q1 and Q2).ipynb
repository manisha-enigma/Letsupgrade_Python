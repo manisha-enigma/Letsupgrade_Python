{
  "nbformat": 4,
  "nbformat_minor": 0,
  "metadata": {
    "colab": {
      "name": "Day3.ipynb",
      "provenance": [],
      "collapsed_sections": []
    },
    "kernelspec": {
      "name": "python3",
      "display_name": "Python 3"
    }
  },
  "cells": [
    {
      "cell_type": "markdown",
      "metadata": {
        "id": "FN7sRiKDSuZs",
        "colab_type": "text"
      },
      "source": [
        "Question 1: \n"
      ]
    },
    {
      "cell_type": "code",
      "metadata": {
        "id": "aVG4EXy8N0vB",
        "colab_type": "code",
        "colab": {
          "base_uri": "https://localhost:8080/",
          "height": 68
        },
        "outputId": "4f4d1cac-290f-4c8f-a780-bb7991aa56df"
      },
      "source": [
        "#Pilot question..\n",
        "#Question 1\n",
        "print(\"Enter your altitude\")\n",
        "a = input()\n",
        "a = int(a)\n",
        "if a < 1000 :\n",
        "    print(\"Safe to Land\")\n",
        "elif a > 1000 and a < 5000 :\n",
        "    print(\"come down to 1000\")\n",
        "elif a > 5000 :\n",
        "    print(\"turn around\")"
      ],
      "execution_count": 9,
      "outputs": [
        {
          "output_type": "stream",
          "text": [
            "Enter your altitude\n",
            "2048\n",
            "come down to 1000\n"
          ],
          "name": "stdout"
        }
      ]
    },
    {
      "cell_type": "markdown",
      "metadata": {
        "id": "0rupqgkUS0Co",
        "colab_type": "text"
      },
      "source": [
        "Question 2\n"
      ]
    },
    {
      "cell_type": "code",
      "metadata": {
        "id": "Z6YG5ySqSqrw",
        "colab_type": "code",
        "colab": {
          "base_uri": "https://localhost:8080/",
          "height": 1000
        },
        "outputId": "a78d8f06-24fc-4c5a-879c-2e178a12b26e"
      },
      "source": [
        "print(2)\n",
        "print(3)\n",
        "for i in range(4,200):\n",
        "  if i % 2 != 0 and i % 3 != 0 :\n",
        "    print(i)"
      ],
      "execution_count": 11,
      "outputs": [
        {
          "output_type": "stream",
          "text": [
            "2\n",
            "3\n",
            "5\n",
            "7\n",
            "11\n",
            "13\n",
            "17\n",
            "19\n",
            "23\n",
            "25\n",
            "29\n",
            "31\n",
            "35\n",
            "37\n",
            "41\n",
            "43\n",
            "47\n",
            "49\n",
            "53\n",
            "55\n",
            "59\n",
            "61\n",
            "65\n",
            "67\n",
            "71\n",
            "73\n",
            "77\n",
            "79\n",
            "83\n",
            "85\n",
            "89\n",
            "91\n",
            "95\n",
            "97\n",
            "101\n",
            "103\n",
            "107\n",
            "109\n",
            "113\n",
            "115\n",
            "119\n",
            "121\n",
            "125\n",
            "127\n",
            "131\n",
            "133\n",
            "137\n",
            "139\n",
            "143\n",
            "145\n",
            "149\n",
            "151\n",
            "155\n",
            "157\n",
            "161\n",
            "163\n",
            "167\n",
            "169\n",
            "173\n",
            "175\n",
            "179\n",
            "181\n",
            "185\n",
            "187\n",
            "191\n",
            "193\n",
            "197\n",
            "199\n"
          ],
          "name": "stdout"
        }
      ]
    }
  ]
}