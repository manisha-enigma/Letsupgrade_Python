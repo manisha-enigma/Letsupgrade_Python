{
  "nbformat": 4,
  "nbformat_minor": 0,
  "metadata": {
    "colab": {
      "name": "Question2.ipynb",
      "provenance": []
    },
    "kernelspec": {
      "name": "python3",
      "display_name": "Python 3"
    }
  },
  "cells": [
    {
      "cell_type": "code",
      "metadata": {
        "id": "cQK1C3xEcnXM",
        "colab_type": "code",
        "colab": {
          "base_uri": "https://localhost:8080/",
          "height": 34
        },
        "outputId": "f321aa4f-df38-4688-cd89-61999f58a34a"
      },
      "source": [
        "#Creating Dictionary with integer keys\n",
        "dict = {1:'Information',2:'and',3:'Technology'}\n",
        "print(dict)\n"
      ],
      "execution_count": null,
      "outputs": [
        {
          "output_type": "stream",
          "text": [
            "{1: 'Information', 2: 'and', 3: 'Technology'}\n"
          ],
          "name": "stdout"
        }
      ]
    },
    {
      "cell_type": "code",
      "metadata": {
        "id": "4-KI3nhhDDjJ",
        "colab_type": "code",
        "colab": {
          "base_uri": "https://localhost:8080/",
          "height": 34
        },
        "outputId": "8c3757db-6ae9-49cc-b66b-365d9b37378e"
      },
      "source": [
        "#Creating dictionary with mixed keys.\n",
        "dict = {'fname': 'Manisha', 'mname':'niranjan','lname':'bhagat'}\n",
        "print(dict)\n",
        " "
      ],
      "execution_count": null,
      "outputs": [
        {
          "output_type": "stream",
          "text": [
            "{'fname': 'Manisha', 'mname': 'niranjan', 'lname': 'bhagat'}\n"
          ],
          "name": "stdout"
        }
      ]
    },
    {
      "cell_type": "code",
      "metadata": {
        "id": "bulZfS0pD2zJ",
        "colab_type": "code",
        "colab": {
          "base_uri": "https://localhost:8080/",
          "height": 34
        },
        "outputId": "365e0670-877d-4242-e2ae-f3661d312bf0"
      },
      "source": [
        "#creating nested dictionary\n",
        "dict = {1: 'Hello', 2: 'World',  \n",
        "        3:{'A' : 'Human', 'B' : 'Animals', 'C' : 'Reptiles'}} \n",
        "  \n",
        "print(dict)"
      ],
      "execution_count": null,
      "outputs": [
        {
          "output_type": "stream",
          "text": [
            "{1: 'Hello', 2: 'World', 3: {'A': 'Human', 'B': 'Animals', 'C': 'Reptiles'}}\n"
          ],
          "name": "stdout"
        }
      ]
    },
    {
      "cell_type": "code",
      "metadata": {
        "id": "vAdcGAesEi6l",
        "colab_type": "code",
        "colab": {
          "base_uri": "https://localhost:8080/",
          "height": 255
        },
        "outputId": "7929086e-2570-4217-ab6e-aa7bd3209ec2"
      },
      "source": [
        "#Empty Dictionary \n",
        "Dict = {} \n",
        "print(\"Empty Dictionary: \") \n",
        "print(Dict) \n",
        "  \n",
        "# Adding elements\n",
        "Dict[0] = 'Manisha'\n",
        "Dict[2] = 'sahul'\n",
        "Dict[3] = 143\n",
        "print(\"\\nDictionary after adding 3 elements: \") \n",
        "print(Dict) \n",
        "  \n",
        "# Adding set of values to a single Key \n",
        "Dict['set1'] = 2, 3, 4\n",
        "print(\"\\nDictionary after adding 3 elements: \") \n",
        "print(Dict) \n",
        "  \n",
        "# Updating existing Key's Value \n",
        "Dict[2] = 'Holla'\n",
        "print(\"\\nUpdated key value: \") \n",
        "print(Dict) \n",
        "  \n",
        "# Adding Nested Key value to Dictionary \n",
        "Dict[5] = {'Nested' :{'1' : 'Hey', '2' : 'Hello'}} \n",
        "print(\"\\nAdding a Nested Key: \") \n",
        "print(Dict) "
      ],
      "execution_count": null,
      "outputs": [
        {
          "output_type": "stream",
          "text": [
            "Empty Dictionary: \n",
            "{}\n",
            "\n",
            "Dictionary after adding 3 elements: \n",
            "{0: 'Manisha', 2: 'sahul', 3: 143}\n",
            "\n",
            "Dictionary after adding 3 elements: \n",
            "{0: 'Manisha', 2: 'sahul', 3: 143, 'set1': (2, 3, 4)}\n",
            "\n",
            "Updated key value: \n",
            "{0: 'Manisha', 2: 'Holla', 3: 143, 'set1': (2, 3, 4)}\n",
            "\n",
            "Adding a Nested Key: \n",
            "{0: 'Manisha', 2: 'Holla', 3: 143, 'set1': (2, 3, 4), 5: {'Nested': {'1': 'Hey', '2': 'Hello'}}}\n"
          ],
          "name": "stdout"
        }
      ]
    },
    {
      "cell_type": "code",
      "metadata": {
        "id": "QT6yo369FMwi",
        "colab_type": "code",
        "colab": {
          "base_uri": "https://localhost:8080/",
          "height": 85
        },
        "outputId": "770fbb8b-fbb1-49ac-bcc4-958e865e92b3"
      },
      "source": [
        "# accessing an element from a Dictionary  \n",
        "  \n",
        "# Creating a Dictionary  \n",
        "Dict = {1: 'Hello', 'Sahul': 'Manisha', 3: 'Tanvi'} \n",
        "  \n",
        "# accessing a element using key \n",
        "print(\"Accessing a element using key:\") \n",
        "print(Dict['Sahul']) \n",
        "  \n",
        "# accessing a element using key \n",
        "print(\"Accessing a element using key:\") \n",
        "print(Dict[1]) "
      ],
      "execution_count": null,
      "outputs": [
        {
          "output_type": "stream",
          "text": [
            "Accessing a element using key:\n",
            "Manisha\n",
            "Accessing a element using key:\n",
            "Hello\n"
          ],
          "name": "stdout"
        }
      ]
    },
    {
      "cell_type": "code",
      "metadata": {
        "id": "qjePkJUiFuqm",
        "colab_type": "code",
        "colab": {
          "base_uri": "https://localhost:8080/",
          "height": 51
        },
        "outputId": "a7f92b40-8e8c-482b-e523-c5766911cf67"
      },
      "source": [
        "# Creating a Dictionary  \n",
        "Dict = {1: 'manisha', 'name': 'bhagat', 3: 'Engineer'} \n",
        "  \n",
        "# accessing a element using get() \n",
        "print(\"Accessing a element using get:\") \n",
        "print(Dict.get(3))"
      ],
      "execution_count": null,
      "outputs": [
        {
          "output_type": "stream",
          "text": [
            "Accessing a element using get:\n",
            "Engineer\n"
          ],
          "name": "stdout"
        }
      ]
    },
    {
      "cell_type": "code",
      "metadata": {
        "id": "fs6uCb0fF7O3",
        "colab_type": "code",
        "colab": {
          "base_uri": "https://localhost:8080/",
          "height": 68
        },
        "outputId": "2f108ab5-e9e0-44d8-a2a1-7d5947b1f3a7"
      },
      "source": [
        "# Creating a Dictionary \n",
        "Dict = {'Dict1': {1: 'Information'}, \n",
        "\t\t'Dict2': {'Name': 'Technology'}} \n",
        "\n",
        "# Accessing element using key \n",
        "print(Dict['Dict1']) \n",
        "print(Dict['Dict1'][1]) \n",
        "print(Dict['Dict2']['Name']) \n"
      ],
      "execution_count": null,
      "outputs": [
        {
          "output_type": "stream",
          "text": [
            "{1: 'Information'}\n",
            "Information\n",
            "Technology\n"
          ],
          "name": "stdout"
        }
      ]
    },
    {
      "cell_type": "code",
      "metadata": {
        "id": "Jfuh6nuwGHPc",
        "colab_type": "code",
        "colab": {
          "base_uri": "https://localhost:8080/",
          "height": 153
        },
        "outputId": "e93e2e1d-3789-4b19-ec90-cc3ebfe7a4c4"
      },
      "source": [
        "# Initial Dictionary \n",
        "Dict = { 5 : 'Welcome', 6 : 'To', 7 : 'World', \n",
        "\t\t'A' : {1 : 'Manisha', 2 : 'Niranjan', 3 : 'Bhagat'}, \n",
        "\t\t'B' : {1 : 'Sahul', 2 : 'Sumra'}} \n",
        "print(\"Initial Dictionary: \") \n",
        "print(Dict) \n",
        "\n",
        "# Deleting a Key value \n",
        "del Dict[6] \n",
        "print(\"\\nDeleting a specific key: \") \n",
        "print(Dict) \n",
        "\n",
        "# Deleting a Key from Nested Dictionary \n",
        "del Dict['A'][2] \n",
        "print(\"\\nDeleting a key from Nested Dictionary: \") \n",
        "print(Dict) \n"
      ],
      "execution_count": null,
      "outputs": [
        {
          "output_type": "stream",
          "text": [
            "Initial Dictionary: \n",
            "{5: 'Welcome', 6: 'To', 7: 'World', 'A': {1: 'Manisha', 2: 'Niranjan', 3: 'Bhagat'}, 'B': {1: 'Sahul', 2: 'Sumra'}}\n",
            "\n",
            "Deleting a specific key: \n",
            "{5: 'Welcome', 7: 'World', 'A': {1: 'Manisha', 2: 'Niranjan', 3: 'Bhagat'}, 'B': {1: 'Sahul', 2: 'Sumra'}}\n",
            "\n",
            "Deleting a key from Nested Dictionary: \n",
            "{5: 'Welcome', 7: 'World', 'A': {1: 'Manisha', 3: 'Bhagat'}, 'B': {1: 'Sahul', 2: 'Sumra'}}\n"
          ],
          "name": "stdout"
        }
      ]
    },
    {
      "cell_type": "code",
      "metadata": {
        "id": "mlLvZjxuGd26",
        "colab_type": "code",
        "colab": {
          "base_uri": "https://localhost:8080/",
          "height": 68
        },
        "outputId": "8d12e6e3-2fa2-4df9-b5ce-a74bd84a52b5"
      },
      "source": [
        "# Creating a Dictionary \n",
        "Dict = {1: 'Geeks', 'name': 'For', 3: 'Geeks'} \n",
        "\n",
        "# Deleting a key using pop() method \n",
        "pop_ele = Dict.pop(1) \n",
        "print('\\nDictionary after deletion: ' + str(Dict)) \n",
        "print('Value associated to poped key is: ' + str(pop_ele)) \n"
      ],
      "execution_count": null,
      "outputs": [
        {
          "output_type": "stream",
          "text": [
            "\n",
            "Dictionary after deletion: {'name': 'For', 3: 'Geeks'}\n",
            "Value associated to poped key is: Geeks\n"
          ],
          "name": "stdout"
        }
      ]
    },
    {
      "cell_type": "code",
      "metadata": {
        "id": "fD7ZYNp0GtEn",
        "colab_type": "code",
        "colab": {
          "base_uri": "https://localhost:8080/",
          "height": 68
        },
        "outputId": "0cdc41e2-decc-4f10-dc38-3696b6438512"
      },
      "source": [
        "# Creating Dictionary \n",
        "Dict = {1: 'Geeks', 'name': 'For', 3: 'Geeks'} \n",
        "\n",
        "# Deleting an arbitrary key using popitem() function \n",
        "pop_ele = Dict.popitem() \n",
        "print(\"\\nDictionary after deletion: \" + str(Dict)) \n",
        "print(\"The arbitrary pair returned is: \" + str(pop_ele)) \n"
      ],
      "execution_count": null,
      "outputs": [
        {
          "output_type": "stream",
          "text": [
            "\n",
            "Dictionary after deletion: {1: 'Geeks', 'name': 'For'}\n",
            "The arbitrary pair returned is: (3, 'Geeks')\n"
          ],
          "name": "stdout"
        }
      ]
    },
    {
      "cell_type": "code",
      "metadata": {
        "id": "LZ_Ya0ncG2fj",
        "colab_type": "code",
        "colab": {
          "base_uri": "https://localhost:8080/",
          "height": 68
        },
        "outputId": "925f4c05-c743-40b1-dba9-556531c13d5f"
      },
      "source": [
        "# Creating a Dictionary \n",
        "Dict = {1: 'manisha', 'name': 'For', 3: 'sahul'} \n",
        "\n",
        "\n",
        "# Deleting entire Dictionary \n",
        "Dict.clear() \n",
        "print(\"\\nDeleting Entire Dictionary: \") \n",
        "print(Dict) \n"
      ],
      "execution_count": 2,
      "outputs": [
        {
          "output_type": "stream",
          "text": [
            "\n",
            "Deleting Entire Dictionary: \n",
            "{}\n"
          ],
          "name": "stdout"
        }
      ]
    },
    {
      "cell_type": "code",
      "metadata": {
        "id": "KrJeTQOoG5A3",
        "colab_type": "code",
        "colab": {}
      },
      "source": [
        ""
      ],
      "execution_count": null,
      "outputs": []
    }
  ]
}