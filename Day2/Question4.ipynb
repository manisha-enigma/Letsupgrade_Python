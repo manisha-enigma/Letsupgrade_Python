{
  "nbformat": 4,
  "nbformat_minor": 0,
  "metadata": {
    "colab": {
      "name": "Question4.ipynb",
      "provenance": []
    },
    "kernelspec": {
      "name": "python3",
      "display_name": "Python 3"
    }
  },
  "cells": [
    {
      "cell_type": "code",
      "metadata": {
        "id": "OAsPNIWgGZq1",
        "colab_type": "code",
        "colab": {
          "base_uri": "https://localhost:8080/",
          "height": 34
        },
        "outputId": "c6803f7c-157a-444f-f164-902ef02005b6"
      },
      "source": [
        "# when parameter is not passed \n",
        "tuple1 = tuple() \n",
        "print(tuple1)"
      ],
      "execution_count": 1,
      "outputs": [
        {
          "output_type": "stream",
          "text": [
            "()\n"
          ],
          "name": "stdout"
        }
      ]
    },
    {
      "cell_type": "code",
      "metadata": {
        "id": "P6j-S1PUGw5y",
        "colab_type": "code",
        "colab": {
          "base_uri": "https://localhost:8080/",
          "height": 34
        },
        "outputId": "a5edf8d8-c4ca-44fb-984a-1e6327b90bc8"
      },
      "source": [
        "#passing list inside tuple\n",
        "list1= [ 1, 2, 3, 4 ]  \n",
        "tuple2 = tuple(list1) \n",
        "print(tuple2) "
      ],
      "execution_count": 2,
      "outputs": [
        {
          "output_type": "stream",
          "text": [
            "(1, 2, 3, 4)\n"
          ],
          "name": "stdout"
        }
      ]
    },
    {
      "cell_type": "code",
      "metadata": {
        "id": "KEjGrwG8G5ae",
        "colab_type": "code",
        "colab": {
          "base_uri": "https://localhost:8080/",
          "height": 34
        },
        "outputId": "6d28b069-6b0d-4893-9755-f891f32fdffb"
      },
      "source": [
        "# when dictionary is passed \n",
        "dict = { 1 : 'one', 2 : 'two' }  \n",
        "tuple3 = tuple(dict) \n",
        "print(tuple3) "
      ],
      "execution_count": 3,
      "outputs": [
        {
          "output_type": "stream",
          "text": [
            "(1, 2)\n"
          ],
          "name": "stdout"
        }
      ]
    },
    {
      "cell_type": "code",
      "metadata": {
        "id": "iJn8TjE9HAiU",
        "colab_type": "code",
        "colab": {
          "base_uri": "https://localhost:8080/",
          "height": 34
        },
        "outputId": "0f7ddd6c-0c1d-472e-cd70-62e065969f8f"
      },
      "source": [
        "# when string is passed \n",
        "string = \"geeksforgeeks\" \n",
        "tuple4 = tuple(string) \n",
        "print(tuple4) "
      ],
      "execution_count": 4,
      "outputs": [
        {
          "output_type": "stream",
          "text": [
            "('g', 'e', 'e', 'k', 's', 'f', 'o', 'r', 'g', 'e', 'e', 'k', 's')\n"
          ],
          "name": "stdout"
        }
      ]
    }
  ]
}