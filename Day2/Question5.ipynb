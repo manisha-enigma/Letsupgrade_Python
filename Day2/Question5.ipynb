{
  "nbformat": 4,
  "nbformat_minor": 0,
  "metadata": {
    "colab": {
      "name": "Question5.ipynb",
      "provenance": []
    },
    "kernelspec": {
      "name": "python3",
      "display_name": "Python 3"
    }
  },
  "cells": [
    {
      "cell_type": "code",
      "metadata": {
        "id": "4k3um6QwHSeG",
        "colab_type": "code",
        "colab": {
          "base_uri": "https://localhost:8080/",
          "height": 51
        },
        "outputId": "e5fa50f6-2fe1-4d90-e133-978bbafe9b10"
      },
      "source": [
        "# Creating a String with single Quotes \n",
        "String1 = 'Welcome to the World'\n",
        "print(\"String with the use of Single Quotes: \") \n",
        "print(String1) "
      ],
      "execution_count": 1,
      "outputs": [
        {
          "output_type": "stream",
          "text": [
            "String with the use of Single Quotes: \n",
            "Welcome to the World\n"
          ],
          "name": "stdout"
        }
      ]
    },
    {
      "cell_type": "code",
      "metadata": {
        "id": "VxDyh4myJiTe",
        "colab_type": "code",
        "colab": {
          "base_uri": "https://localhost:8080/",
          "height": 68
        },
        "outputId": "8500a21d-b234-4820-ad2f-e0c1b9bf77e6"
      },
      "source": [
        "# Creating a String with double Quotes \n",
        "String1 = \"I'm a Fresher IT engineer\"\n",
        "print(\"\\nString with the use of Double Quotes: \") \n",
        "print(String1) "
      ],
      "execution_count": 2,
      "outputs": [
        {
          "output_type": "stream",
          "text": [
            "\n",
            "String with the use of Double Quotes: \n",
            "I'm a Fresher IT engineer\n"
          ],
          "name": "stdout"
        }
      ]
    },
    {
      "cell_type": "code",
      "metadata": {
        "id": "19NrNTkjJqzU",
        "colab_type": "code",
        "colab": {
          "base_uri": "https://localhost:8080/",
          "height": 68
        },
        "outputId": "eb7cf7c8-023e-4eac-9f3b-e1683ee82ffa"
      },
      "source": [
        "# Creating a String with triple Quotes \n",
        "String1 = '''I'm a Fresher and I need a job'''\n",
        "print(\"\\nString with the use of Triple Quotes: \") \n",
        "print(String1) "
      ],
      "execution_count": 3,
      "outputs": [
        {
          "output_type": "stream",
          "text": [
            "\n",
            "String with the use of Triple Quotes: \n",
            "I'm a Fresher and I need a job\n"
          ],
          "name": "stdout"
        }
      ]
    },
    {
      "cell_type": "code",
      "metadata": {
        "id": "joCjXDytJ0Hg",
        "colab_type": "code",
        "colab": {
          "base_uri": "https://localhost:8080/",
          "height": 102
        },
        "outputId": "83a26e9c-475d-43ae-bd1a-11a4cc66d040"
      },
      "source": [
        "# Creating String with triple Quotes allows multiple lines \n",
        "String1 = '''Loves \n",
        "For \n",
        "Life'''\n",
        "print(\"\\nCreating a multiline String: \") \n",
        "print(String1) "
      ],
      "execution_count": 5,
      "outputs": [
        {
          "output_type": "stream",
          "text": [
            "\n",
            "Creating a multiline String: \n",
            "Loves \n",
            "For \n",
            "Life\n"
          ],
          "name": "stdout"
        }
      ]
    },
    {
      "cell_type": "code",
      "metadata": {
        "id": "NOva_mREKDN8",
        "colab_type": "code",
        "colab": {
          "base_uri": "https://localhost:8080/",
          "height": 153
        },
        "outputId": "eac94460-648a-4c2c-ae35-65306207d418"
      },
      "source": [
        "#Access characters of String \n",
        "  \n",
        "String1 = \"HelloWorld\"\n",
        "print(\"Initial String: \") \n",
        "print(String1) \n",
        "  \n",
        "# Printing First character \n",
        "print(\"\\nFirst character of String is: \") \n",
        "print(String1[0]) \n",
        "  \n",
        "# Printing Last character \n",
        "print(\"\\nLast character of String is: \") \n",
        "print(String1[-1]) "
      ],
      "execution_count": 6,
      "outputs": [
        {
          "output_type": "stream",
          "text": [
            "Initial String: \n",
            "HelloWorld\n",
            "\n",
            "First character of String is: \n",
            "H\n",
            "\n",
            "Last character of String is: \n",
            "d\n"
          ],
          "name": "stdout"
        }
      ]
    },
    {
      "cell_type": "code",
      "metadata": {
        "id": "Eu2R3_6hKK7v",
        "colab_type": "code",
        "colab": {
          "base_uri": "https://localhost:8080/",
          "height": 153
        },
        "outputId": "5e4f70ef-6387-42bb-9f80-03d0a413f425"
      },
      "source": [
        " \n",
        "#String slicing \n",
        "  \n",
        "# Creating a String \n",
        "String1 = \"HelloWorld\"\n",
        "print(\"Initial String: \")  \n",
        "print(String1) \n",
        "  \n",
        "# Printing 3rd to 6th character \n",
        "print(\"\\nSlicing characters from 3-6: \") \n",
        "print(String1[3:6]) \n",
        "  \n",
        "# Printing characters between 3rd and 2nd last character \n",
        "print(\"\\nSlicing characters between \" +\n",
        "    \"3rd and 2nd last character: \") \n",
        "print(String1[3:-2]) "
      ],
      "execution_count": 7,
      "outputs": [
        {
          "output_type": "stream",
          "text": [
            "Initial String: \n",
            "HelloWorld\n",
            "\n",
            "Slicing characters from 3-6: \n",
            "loW\n",
            "\n",
            "Slicing characters between 3rd and 2nd last character: \n",
            "loWor\n"
          ],
          "name": "stdout"
        }
      ]
    },
    {
      "cell_type": "code",
      "metadata": {
        "id": "fQz8SiM6Kfqg",
        "colab_type": "code",
        "colab": {
          "base_uri": "https://localhost:8080/",
          "height": 102
        },
        "outputId": "ae2c91ea-665a-4925-e97c-72a2630a72e0"
      },
      "source": [
        "# Python Program to Update entire String \n",
        "  \n",
        "String1 = \"Hello, I'm a Mona\"\n",
        "print(\"Initial String: \") \n",
        "print(String1) \n",
        "  \n",
        "# Updating a String \n",
        "String1 = \"Welcome to the my World\"\n",
        "print(\"\\nUpdated String: \") \n",
        "print(String1) "
      ],
      "execution_count": 10,
      "outputs": [
        {
          "output_type": "stream",
          "text": [
            "Initial String: \n",
            "Hello, I'm a Mona\n",
            "\n",
            "Updated String: \n",
            "Welcome to the my World\n"
          ],
          "name": "stdout"
        }
      ]
    },
    {
      "cell_type": "code",
      "metadata": {
        "id": "pScROkB4LAab",
        "colab_type": "code",
        "colab": {
          "base_uri": "https://localhost:8080/",
          "height": 204
        },
        "outputId": "d0417a10-18f7-46fc-d981-006a155f7f99"
      },
      "source": [
        "#Escape Sequencing of String \n",
        "  \n",
        "# Initial String \n",
        "String1 = '''I'm a \"Mona\"'''\n",
        "print(\"Initial String with use of Triple Quotes: \") \n",
        "print(String1) \n",
        "  \n",
        "# Escaping Single Quote  \n",
        "String1 = 'I\\'m a \"Mona\"'\n",
        "print(\"\\nEscaping Single Quote: \") \n",
        "print(String1) \n",
        "  \n",
        "# Escaping Doule Quotes \n",
        "String1 = \"I'm a \\\"Mona\\\"\"\n",
        "print(\"\\nEscaping Double Quotes: \") \n",
        "print(String1) \n",
        "  \n",
        "# Printing Paths with the use of Escape Sequences \n",
        "String1 = \"C:\\\\Python\\\\Mona\\\\\"\n",
        "print(\"\\nEscaping Backslashes: \") \n",
        "print(String1) "
      ],
      "execution_count": 11,
      "outputs": [
        {
          "output_type": "stream",
          "text": [
            "Initial String with use of Triple Quotes: \n",
            "I'm a \"Mona\"\n",
            "\n",
            "Escaping Single Quote: \n",
            "I'm a \"Mona\"\n",
            "\n",
            "Escaping Double Quotes: \n",
            "I'm a \"Mona\"\n",
            "\n",
            "Escaping Backslashes: \n",
            "C:\\Python\\Mona\\\n"
          ],
          "name": "stdout"
        }
      ]
    },
    {
      "cell_type": "code",
      "metadata": {
        "id": "8YWMOYPeLTpw",
        "colab_type": "code",
        "colab": {
          "base_uri": "https://localhost:8080/",
          "height": 153
        },
        "outputId": "c06a2bf1-5dba-4ffb-f628-ff634b92a1f1"
      },
      "source": [
        "# Python Program for Formatting of Strings \n",
        "  \n",
        "# Default order \n",
        "String1 = \"{} {} {}\".format('Loves', 'For', 'Life') \n",
        "print(\"Print String in default order: \") \n",
        "print(String1) \n",
        "  \n",
        "# Positional Formatting \n",
        "String1 = \"{1} {0} {2}\".format('Loves', 'For', 'Life') \n",
        "print(\"\\nPrint String in Positional order: \") \n",
        "print(String1) \n",
        "  \n",
        "# Keyword Formatting \n",
        "String1 = \"{l} {f} {g}\".format(g = 'Loves', f = 'For', l = 'Life') \n",
        "print(\"\\nPrint String in order of Keywords: \") \n",
        "print(String1)"
      ],
      "execution_count": 12,
      "outputs": [
        {
          "output_type": "stream",
          "text": [
            "Print String in default order: \n",
            "Loves For Life\n",
            "\n",
            "Print String in Positional order: \n",
            "For Loves Life\n",
            "\n",
            "Print String in order of Keywords: \n",
            "Life For Loves\n"
          ],
          "name": "stdout"
        }
      ]
    },
    {
      "cell_type": "code",
      "metadata": {
        "id": "iScQbVyQLegN",
        "colab_type": "code",
        "colab": {
          "base_uri": "https://localhost:8080/",
          "height": 102
        },
        "outputId": "5eaef915-6967-419b-ecaf-6ea5c2e2045a"
      },
      "source": [
        "# String alignment \n",
        "String1 = \"|{:<10}|{:^10}|\".format('hello','world') \n",
        "print(\"\\nLeft, center and right alignment with Formatting: \") \n",
        "print(String1) \n",
        "  \n",
        "# To demonstrate aligning of spaces  \n",
        "String1 = \"\\n{0:^16} was founded in {1:<4}!\".format(\"Helloworld\", 2009) \n",
        "print(String1)"
      ],
      "execution_count": 14,
      "outputs": [
        {
          "output_type": "stream",
          "text": [
            "\n",
            "Left, center and right alignment with Formatting: \n",
            "|hello     |  world   |\n",
            "\n",
            "   Helloworld    was founded in 2009!\n"
          ],
          "name": "stdout"
        }
      ]
    }
  ]
}