{
  "nbformat": 4,
  "nbformat_minor": 0,
  "metadata": {
    "colab": {
      "name": "Question1.ipynb",
      "provenance": [],
      "collapsed_sections": []
    },
    "kernelspec": {
      "name": "python3",
      "display_name": "Python 3"
    }
  },
  "cells": [
    {
      "cell_type": "code",
      "metadata": {
        "id": "mYSWK3hYRoeL",
        "colab_type": "code",
        "colab": {
          "base_uri": "https://localhost:8080/",
          "height": 34
        },
        "outputId": "ee1c371d-a922-4943-c3cb-ab95aee2719d"
      },
      "source": [
        "#Append\n",
        "list = [1,2,3,4,5,6,7,8,9,10]\n",
        "list.append(11)\n",
        "print(list)\n"
      ],
      "execution_count": 1,
      "outputs": [
        {
          "output_type": "stream",
          "text": [
            "[1, 2, 3, 4, 5, 6, 7, 8, 9, 10, 11]\n"
          ],
          "name": "stdout"
        }
      ]
    },
    {
      "cell_type": "code",
      "metadata": {
        "id": "7Dvm-x21T0GS",
        "colab_type": "code",
        "colab": {
          "base_uri": "https://localhost:8080/",
          "height": 34
        },
        "outputId": "459ec0d4-9941-4a6b-965e-d79166d8247c"
      },
      "source": [
        "#insertion\n",
        "list = [1,2,4,5,6,7,8]\n",
        "list.insert(2,3)\n",
        "print(list)\n"
      ],
      "execution_count": 3,
      "outputs": [
        {
          "output_type": "stream",
          "text": [
            "[1, 2, 3, 4, 5, 6, 7, 8]\n"
          ],
          "name": "stdout"
        }
      ]
    },
    {
      "cell_type": "code",
      "metadata": {
        "id": "4TqzoCIiUZ7w",
        "colab_type": "code",
        "colab": {
          "base_uri": "https://localhost:8080/",
          "height": 34
        },
        "outputId": "8838ed5e-410f-4f2b-c185-9493078ec0ea"
      },
      "source": [
        "#extend 2 list.\n",
        "list1 = [1,2,3,4,5]\n",
        "list2 = [6,7,8,9,10]\n",
        "list2.extend(list1)\n",
        "print(list2)"
      ],
      "execution_count": 4,
      "outputs": [
        {
          "output_type": "stream",
          "text": [
            "[6, 7, 8, 9, 10, 1, 2, 3, 4, 5]\n"
          ],
          "name": "stdout"
        }
      ]
    },
    {
      "cell_type": "code",
      "metadata": {
        "id": "ybZ99I9YVBcA",
        "colab_type": "code",
        "colab": {
          "base_uri": "https://localhost:8080/",
          "height": 51
        },
        "outputId": "e8f03060-a40c-433a-df9c-64123ffa9123"
      },
      "source": [
        "#Min and Max\n",
        "list = [88,45,72,34,14,70]\n",
        "print(\"Minimum value in list is: \",min(list))\n",
        "print(\"Maxmum value in list is: \",max(list))"
      ],
      "execution_count": 10,
      "outputs": [
        {
          "output_type": "stream",
          "text": [
            "Minimum value in list is:  14\n",
            "Maxmum value in list is:  88\n"
          ],
          "name": "stdout"
        }
      ]
    },
    {
      "cell_type": "code",
      "metadata": {
        "id": "Gl2OKQMZWi9r",
        "colab_type": "code",
        "colab": {
          "base_uri": "https://localhost:8080/",
          "height": 85
        },
        "outputId": "1b880376-7494-40f2-f5bb-83fcbb779ae3"
      },
      "source": [
        "#sum(), count(), index() and len()\n",
        "list = [1,2,3,5,1,3,4,1,8,9,4]\n",
        "print(\"Sum of total value present in list is\", sum(list))\n",
        "print(\"total 1 present in list is/are: \", list.count(1))\n",
        "print(\"Index of 3 is:\",list.index(3))\n",
        "print(\"length of list: \",len(list))"
      ],
      "execution_count": 13,
      "outputs": [
        {
          "output_type": "stream",
          "text": [
            "Sum of total value present in list is 41\n",
            "total 1 present in list is/are:  3\n",
            "Index of 3 is: 2\n",
            "length of list:  11\n"
          ],
          "name": "stdout"
        }
      ]
    },
    {
      "cell_type": "code",
      "metadata": {
        "id": "FpAumKu4Xnk8",
        "colab_type": "code",
        "colab": {
          "base_uri": "https://localhost:8080/",
          "height": 68
        },
        "outputId": "156cb16e-2f70-4b22-c20d-9b39a1eac873"
      },
      "source": [
        "#sorting and reversing\n",
        "list = [5,3,6,8,2,9,1,7,4]\n",
        "list.sort()\n",
        "print(\"sorted form of list:\",list) \n",
        "print(\"Reverse form of list:\")\n",
        "list.sort(reverse=True)\n",
        "print(list)"
      ],
      "execution_count": 20,
      "outputs": [
        {
          "output_type": "stream",
          "text": [
            "sorted form of list: [1, 2, 3, 4, 5, 6, 7, 8, 9]\n",
            "Reverse form of list:\n",
            "[9, 8, 7, 6, 5, 4, 3, 2, 1]\n"
          ],
          "name": "stdout"
        }
      ]
    },
    {
      "cell_type": "code",
      "metadata": {
        "id": "U0yLK-g6Zt2W",
        "colab_type": "code",
        "colab": {
          "base_uri": "https://localhost:8080/",
          "height": 102
        },
        "outputId": "eb365b53-cd6a-41db-f8a6-3a063a88a03c"
      },
      "source": [
        "#deletion\n",
        "list = [2,3,4,5,6]\n",
        "#ppping last element\n",
        "print(list.pop())\n",
        "#popping 3rd element\n",
        "print(list.pop(2))\n",
        "print(list)\n",
        "#deleting 1st indexed value\n",
        "del list[1]\n",
        "print(list)\n",
        "#remove 2 from list\n",
        "list.remove(2)\n",
        "print(list)"
      ],
      "execution_count": 30,
      "outputs": [
        {
          "output_type": "stream",
          "text": [
            "6\n",
            "4\n",
            "[2, 3, 5]\n",
            "[2, 5]\n",
            "[5]\n"
          ],
          "name": "stdout"
        }
      ]
    }
  ]
}