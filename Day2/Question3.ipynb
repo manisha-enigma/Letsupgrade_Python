{
  "nbformat": 4,
  "nbformat_minor": 0,
  "metadata": {
    "colab": {
      "name": "Question3.ipynb",
      "provenance": []
    },
    "kernelspec": {
      "name": "python3",
      "display_name": "Python 3"
    }
  },
  "cells": [
    {
      "cell_type": "code",
      "metadata": {
        "id": "2mc5xI7OECQZ",
        "colab_type": "code",
        "colab": {
          "base_uri": "https://localhost:8080/",
          "height": 34
        },
        "outputId": "02edb373-0a6c-423c-c4da-8bf871e28fd8"
      },
      "source": [
        "#SET\n",
        "myset = set([\"a\", \"b\", \"c\"]) \n",
        "print(myset) "
      ],
      "execution_count": 1,
      "outputs": [
        {
          "output_type": "stream",
          "text": [
            "{'b', 'c', 'a'}\n"
          ],
          "name": "stdout"
        }
      ]
    },
    {
      "cell_type": "code",
      "metadata": {
        "id": "GG9iYQuOE1fH",
        "colab_type": "code",
        "colab": {
          "base_uri": "https://localhost:8080/",
          "height": 34
        },
        "outputId": "2cf6c330-d8f0-48c1-df11-6ebd1b948691"
      },
      "source": [
        "#adding an element in set\n",
        "myset.add(\"d\") \n",
        "print(myset) "
      ],
      "execution_count": 2,
      "outputs": [
        {
          "output_type": "stream",
          "text": [
            "{'b', 'c', 'd', 'a'}\n"
          ],
          "name": "stdout"
        }
      ]
    },
    {
      "cell_type": "code",
      "metadata": {
        "id": "gv1Q2znjFTrr",
        "colab_type": "code",
        "colab": {
          "base_uri": "https://localhost:8080/",
          "height": 51
        },
        "outputId": "8af542bf-b5f6-44da-d5eb-dc1c2a2c5e1e"
      },
      "source": [
        "#union of two sets \n",
        "  \n",
        "people = {\"Jay\", \"Idrish\", \"Archil\"} \n",
        "vampires = {\"Karan\", \"Arjun\"} \n",
        "dracula = {\"Deepanshu\", \"Raju\"} \n",
        " \n",
        "population = people.union(vampires) \n",
        "  \n",
        "print(\"Union using union() function\") \n",
        "print(population) "
      ],
      "execution_count": 3,
      "outputs": [
        {
          "output_type": "stream",
          "text": [
            "Union using union() function\n",
            "{'Jay', 'Archil', 'Karan', 'Idrish', 'Arjun'}\n"
          ],
          "name": "stdout"
        }
      ]
    },
    {
      "cell_type": "code",
      "metadata": {
        "id": "EZjwTqI4FlG8",
        "colab_type": "code",
        "colab": {
          "base_uri": "https://localhost:8080/",
          "height": 102
        },
        "outputId": "cdaeb071-a256-46d2-e125-74b90965e8f9"
      },
      "source": [
        "  \n",
        "#intersection of two sets \n",
        "  \n",
        "set1 = set() \n",
        "set2 = set() \n",
        "  \n",
        "for i in range(5): \n",
        "    set1.add(i) \n",
        "  \n",
        "for i in range(3,9): \n",
        "    set2.add(i) \n",
        "  \n",
        "set3 = set1.intersection(set2) \n",
        "  \n",
        "print(\"Intersection using intersection() function\") \n",
        "print(set3) \n",
        "  \n",
        "set3 = set1 & set2 \n",
        "  \n",
        "print(\"\\nIntersection using '&' operator\") \n",
        "print(set3) "
      ],
      "execution_count": 4,
      "outputs": [
        {
          "output_type": "stream",
          "text": [
            "Intersection using intersection() function\n",
            "{3, 4}\n",
            "\n",
            "Intersection using '&' operator\n",
            "{3, 4}\n"
          ],
          "name": "stdout"
        }
      ]
    },
    {
      "cell_type": "code",
      "metadata": {
        "id": "zMr6YR2gFwjp",
        "colab_type": "code",
        "colab": {
          "base_uri": "https://localhost:8080/",
          "height": 102
        },
        "outputId": "ebab5459-d5d5-4a16-d717-9a0563799378"
      },
      "source": [
        "#difference of two sets \n",
        "  \n",
        "set1 = set() \n",
        "set2 = set() \n",
        "  \n",
        "for i in range(5): \n",
        "    set1.add(i) \n",
        "  \n",
        "for i in range(3,9): \n",
        "    set2.add(i) \n",
        "  \n",
        "# Difference of two sets using difference() function \n",
        "set3 = set1.difference(set2) \n",
        "  \n",
        "print(\" Difference of two sets using difference() function\") \n",
        "print(set3) \n",
        "  \n",
        "# Difference of two sets using '-' operator \n",
        "set3 = set1 - set2 \n",
        "  \n",
        "print(\"\\nDifference of two sets using '-' operator\") \n",
        "print(set3) "
      ],
      "execution_count": 5,
      "outputs": [
        {
          "output_type": "stream",
          "text": [
            " Difference of two sets using difference() function\n",
            "{0, 1, 2}\n",
            "\n",
            "Difference of two sets using '-' operator\n",
            "{0, 1, 2}\n"
          ],
          "name": "stdout"
        }
      ]
    },
    {
      "cell_type": "code",
      "metadata": {
        "id": "pMTEJMA2GBVd",
        "colab_type": "code",
        "colab": {
          "base_uri": "https://localhost:8080/",
          "height": 85
        },
        "outputId": "a4bcdd0c-6c8a-435a-b72d-281d229cd4b4"
      },
      "source": [
        "#clear()\n",
        "  \n",
        "set1 = {1,2,3,4,5,6} \n",
        "print(set1)\n",
        "# This method will remove all the elements of the set \n",
        "set1.clear() \n",
        "  \n",
        "print(\"\\nSet after using clear() function\") \n",
        "print(set1) "
      ],
      "execution_count": 6,
      "outputs": [
        {
          "output_type": "stream",
          "text": [
            "{1, 2, 3, 4, 5, 6}\n",
            "\n",
            "Set after using clear() function\n",
            "set()\n"
          ],
          "name": "stdout"
        }
      ]
    }
  ]
}